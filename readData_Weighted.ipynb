{
 "cells": [
  {
   "cell_type": "code",
   "execution_count": 1,
   "metadata": {
    "collapsed": false
   },
   "outputs": [
    {
     "name": "stderr",
     "output_type": "stream",
     "text": [
      "Warning message:\n",
      ": package 'dils' was built under R version 3.3.1Loading required package: igraph\n",
      "\n",
      "Attaching package: 'igraph'\n",
      "\n",
      "The following objects are masked from 'package:stats':\n",
      "\n",
      "    decompose, spectrum\n",
      "\n",
      "The following object is masked from 'package:base':\n",
      "\n",
      "    union\n",
      "\n",
      "Loading required package: Rcpp\n"
     ]
    }
   ],
   "source": [
    "#install.packages(\"dils\", repos = \"http://cran.itam.mx/\")\n",
    "#install.packages(\"igraph\", repos = \"http://cran.itam.mx/\")\n",
    "\n",
    "library( \"dils\" )\n",
    "library( \"igraph\" )"
   ]
  },
  {
   "cell_type": "code",
   "execution_count": 16,
   "metadata": {
    "collapsed": false
   },
   "outputs": [
    {
     "data": {
      "text/html": [
       "37862"
      ],
      "text/latex": [
       "37862"
      ],
      "text/markdown": [
       "37862"
      ],
      "text/plain": [
       "[1] 37862"
      ]
     },
     "metadata": {},
     "output_type": "display_data"
    }
   ],
   "source": [
    "#edgeList <- read.table(\"red.final.sanos.txt\", header = TRUE, sep = \"\\t\", stringsAsFactors = F)\n",
    "edgeList <- read.table(\"red.final.enfermos.txt\", header = TRUE, sep = \"\\t\", stringsAsFactors = F)\n",
    "\n",
    "#Calculates number of edges\n",
    "nEdges <- length(edgeList[,1])\n",
    "nEdges"
   ]
  },
  {
   "cell_type": "code",
   "execution_count": 17,
   "metadata": {
    "collapsed": false
   },
   "outputs": [
    {
     "data": {
      "text/html": [
       "4544"
      ],
      "text/latex": [
       "4544"
      ],
      "text/markdown": [
       "4544"
      ],
      "text/plain": [
       "[1] 4544"
      ]
     },
     "metadata": {},
     "output_type": "display_data"
    },
    {
     "data": {
      "text/html": [
       "4033"
      ],
      "text/latex": [
       "4033"
      ],
      "text/markdown": [
       "4033"
      ],
      "text/plain": [
       "[1] 4033"
      ]
     },
     "metadata": {},
     "output_type": "display_data"
    },
    {
     "data": {
      "text/html": [
       "511"
      ],
      "text/latex": [
       "511"
      ],
      "text/markdown": [
       "511"
      ],
      "text/plain": [
       "[1] 511"
      ]
     },
     "metadata": {},
     "output_type": "display_data"
    }
   ],
   "source": [
    "#Makes a list using all the mRNA and genes (nodes constr.)\n",
    "x <- sort( unique( c(edgeList[,1], edgeList[,2])) )\n",
    "\n",
    "#Separate all genes from mRNA\n",
    "y <- x[grepl(\"^[^(hsa)].+$\", x)]\n",
    "z <- x[grepl(\"hsa.*\", x)]\n",
    "\n",
    "#Joins them to preserve order\n",
    "x <- c(y,z)\n",
    "\n",
    "#Determinates number of nodes\n",
    "nNde <- length(x)\n",
    "nGene <- length(y)\n",
    "nmRNA <- length(z)\n",
    "\n",
    "nNde; nGene; nmRNA"
   ]
  },
  {
   "cell_type": "code",
   "execution_count": 18,
   "metadata": {
    "collapsed": false
   },
   "outputs": [],
   "source": [
    "#Creates a matrix (future adjacency matrix)\n",
    "mat  <- matrix(0, nrow = nNde, ncol = nNde)\n",
    "\n",
    "#Each col and row correspond to a gene or mRNA (stored in x)\n",
    "rownames( mat ) <- x\n",
    "colnames( mat ) <- rownames( mat )"
   ]
  },
  {
   "cell_type": "code",
   "execution_count": 19,
   "metadata": {
    "collapsed": false
   },
   "outputs": [],
   "source": [
    "#Makes a dictionary to asign each element in our adjacency list to our matrix.\n",
    "dict <- vector(mode = \"list\", length = nNde )\n",
    "names(dict) <- x\n",
    "\n",
    "for (i in 1:nNde){ dict[[i]] <- i }\n",
    "\n",
    "for (i in 1:nEdges){\n",
    "    mat[ dict[[ edgeList[i,1] ]], dict[[ edgeList[i,2] ]] ] <- edgeList[i,3]\n",
    "    mat[ dict[[ edgeList[i,2] ]], dict[[ edgeList[i,1] ]] ] <- edgeList[i,3]\n",
    "}"
   ]
  },
  {
   "cell_type": "code",
   "execution_count": 20,
   "metadata": {
    "collapsed": false
   },
   "outputs": [
    {
     "data": {
      "text/html": [
       "FALSE"
      ],
      "text/latex": [
       "FALSE"
      ],
      "text/markdown": [
       "FALSE"
      ],
      "text/plain": [
       "[1] FALSE"
      ]
     },
     "metadata": {},
     "output_type": "display_data"
    },
    {
     "data": {
      "text/html": [
       "TRUE"
      ],
      "text/latex": [
       "TRUE"
      ],
      "text/markdown": [
       "TRUE"
      ],
      "text/plain": [
       "[1] TRUE"
      ]
     },
     "metadata": {},
     "output_type": "display_data"
    },
    {
     "data": {
      "text/html": [
       "TRUE"
      ],
      "text/latex": [
       "TRUE"
      ],
      "text/markdown": [
       "TRUE"
      ],
      "text/plain": [
       "[1] TRUE"
      ]
     },
     "metadata": {},
     "output_type": "display_data"
    }
   ],
   "source": [
    "#Checks if we did everything right\n",
    "nEdges == sum(mat)/2\n",
    "all(mat == t(mat))\n",
    "isSymmetric(mat)"
   ]
  },
  {
   "cell_type": "code",
   "execution_count": 21,
   "metadata": {
    "collapsed": false
   },
   "outputs": [],
   "source": [
    "G <- graph.adjacency( adjmatrix = mat, mode = \"undirected\", diag = F, weighted = TRUE )"
   ]
  },
  {
   "cell_type": "code",
   "execution_count": 22,
   "metadata": {
    "collapsed": true
   },
   "outputs": [],
   "source": [
    "centralityEgn <- eigen_centrality(graph = G)\n",
    "write.table( centralityEgn$vector, \"eigenCentrality.txt\", sep = \"\\t\", col.names = F, quote = F)"
   ]
  },
  {
   "cell_type": "code",
   "execution_count": 23,
   "metadata": {
    "collapsed": true
   },
   "outputs": [],
   "source": [
    "centralityBtw <- betweenness(graph = G, v = V(G))\n",
    "write.table( centralityBtw, \"betweenness.txt\", sep = \"\\t\", col.names = F, quote = F)"
   ]
  },
  {
   "cell_type": "code",
   "execution_count": 24,
   "metadata": {
    "collapsed": true
   },
   "outputs": [],
   "source": [
    "centralityCls <- closeness(graph = G, v = V(G))\n",
    "write.table( centralityCls, \"closeness.txt\", sep = \"\\t\", col.names = F, quote = F)"
   ]
  },
  {
   "cell_type": "code",
   "execution_count": 25,
   "metadata": {
    "collapsed": true
   },
   "outputs": [],
   "source": [
    "centralityDgr <- degree(graph = G, v = V(G))\n",
    "write.table( centralityDgr, \"degree.txt\", sep = \"\\t\", col.names = F, quote = F)"
   ]
  },
  {
   "cell_type": "code",
   "execution_count": 26,
   "metadata": {
    "collapsed": false
   },
   "outputs": [],
   "source": [
    "#Split data in 3 graphs\n",
    "matG <- mat[ 1:nGene, 1:nGene ]\n",
    "colnames(matG) = rownames(matG) = y\n",
    "\n",
    "matR <- mat[ (nGene+1):(nGene+nmRNA) , (nGene+1):(nGene+nmRNA) ]\n",
    "colnames(matR) = rownames(matR) = z\n",
    "\n",
    "matB <- matrix(0, length(x), length(x))\n",
    "rownames(matB) = colnames(matB) = x\n",
    "\n",
    "for(i in 1:nGene){ \n",
    "    for(j in (nGene+1):(nGene+nmRNA)){\n",
    "        if( mat[i,j] > 0 ){ \n",
    "            matB[i,j] = matB[j,i] = mat[i,j]\n",
    "} } }"
   ]
  },
  {
   "cell_type": "code",
   "execution_count": 27,
   "metadata": {
    "collapsed": false
   },
   "outputs": [],
   "source": [
    "#Applies every measure restricted to genes\n",
    "\n",
    "genesG <- graph.adjacency( adjmatrix = matG, mode = \"undirected\", diag = F, weighted = TRUE)\n",
    "\n",
    "centralityEgn <- eigen_centrality(graph = genesG)\n",
    "write.table( centralityEgn$vector, \"eigenCentrality_genes.txt\", sep = \"\\t\", col.names = F, quote = F)\n",
    "\n",
    "centralityBtw <- betweenness(graph = genesG, v = V(genesG))\n",
    "write.table( centralityBtw, \"betweenness_genes.txt\", sep = \"\\t\", col.names = F, quote = F)\n",
    "\n",
    "centralityCls <- closeness(graph = genesG, v = V(genesG))\n",
    "write.table( centralityCls, \"closeness_genes.txt\", sep = \"\\t\", col.names = F, quote = F)\n",
    "\n",
    "centralityDgr <- degree(graph = genesG, v = V(genesG))\n",
    "write.table( centralityDgr, \"degree_genes.txt\", sep = \"\\t\", col.names = F, quote = F)"
   ]
  },
  {
   "cell_type": "code",
   "execution_count": 28,
   "metadata": {
    "collapsed": true
   },
   "outputs": [],
   "source": [
    "#Applies every measure restricted to miRNA\n",
    "\n",
    "mrnaG <- graph.adjacency( adjmatrix = matR, mode = \"undirected\", diag = F, weighted = TRUE )\n",
    "\n",
    "centralityEgn <- eigen_centrality(graph = mrnaG)\n",
    "write.table( centralityEgn$vector, \"eigenCentrality_mRNA.txt\", sep = \"\\t\", col.names = F, quote = F)\n",
    "\n",
    "centralityBtw <- betweenness(graph = mrnaG, v = V(mrnaG))\n",
    "write.table( centralityBtw, \"betweenness_mRNA.txt\", sep = \"\\t\", col.names = F, quote = F)\n",
    "\n",
    "centralityCls <- closeness(graph = mrnaG, v = V(mrnaG))\n",
    "write.table( centralityCls, \"closeness_mRNA.txt\", sep = \"\\t\", col.names = F, quote = F)\n",
    "\n",
    "centralityDgr <- degree(graph = mrnaG, v = V(mrnaG))\n",
    "write.table( centralityDgr, \"degree_mRNA.txt\", sep = \"\\t\", col.names = F, quote = F)"
   ]
  },
  {
   "cell_type": "code",
   "execution_count": 29,
   "metadata": {
    "collapsed": true
   },
   "outputs": [],
   "source": [
    "#Applies every measure restricted to the bipartite graph\n",
    "\n",
    "bipG <- graph.adjacency( adjmatrix = matB, mode = \"undirected\", diag = F, weighted = TRUE )\n",
    "\n",
    "centralityEgn <- eigen_centrality(graph = bipG)\n",
    "write.table( centralityEgn$vector, \"eigenCentrality_bipartite.txt\", sep = \"\\t\", col.names = F, quote = F)\n",
    "\n",
    "centralityBtw <- betweenness(graph = bipG, v = V(bipG))\n",
    "write.table( centralityBtw, \"betweenness_bipartite.txt\", sep = \"\\t\", col.names = F, quote = F)\n",
    "\n",
    "centralityCls <- closeness(graph = bipG, v = V(bipG))\n",
    "write.table( centralityCls, \"closeness_bipartite.txt\", sep = \"\\t\", col.names = F, quote = F)\n",
    "\n",
    "centralityDgr <- degree(graph = bipG, v = V(bipG))\n",
    "write.table( centralityDgr, \"degree_bipartite.txt\", sep = \"\\t\", col.names = F, quote = F)"
   ]
  },
  {
   "cell_type": "code",
   "execution_count": null,
   "metadata": {
    "collapsed": true
   },
   "outputs": [],
   "source": []
  },
  {
   "cell_type": "code",
   "execution_count": null,
   "metadata": {
    "collapsed": true
   },
   "outputs": [],
   "source": []
  }
 ],
 "metadata": {
  "kernelspec": {
   "display_name": "R",
   "language": "R",
   "name": "ir"
  },
  "language_info": {
   "codemirror_mode": "r",
   "file_extension": ".r",
   "mimetype": "text/x-r-source",
   "name": "R",
   "pygments_lexer": "r",
   "version": "3.3.0"
  }
 },
 "nbformat": 4,
 "nbformat_minor": 0
}
