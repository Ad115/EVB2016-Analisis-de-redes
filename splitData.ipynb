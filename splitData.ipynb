{
 "cells": [
  {
   "cell_type": "code",
   "execution_count": 30,
   "metadata": {
    "collapsed": false
   },
   "outputs": [
    {
     "data": {
      "text/html": [
       "39291"
      ],
      "text/latex": [
       "39291"
      ],
      "text/markdown": [
       "39291"
      ],
      "text/plain": [
       "[1] 39291"
      ]
     },
     "metadata": {},
     "output_type": "display_data"
    }
   ],
   "source": [
    "edgeList <- read.table(\"red.final.sanos.txt\", header = TRUE, sep = \"\\t\", stringsAsFactors = F)\n",
    "#edgeList <- read.table(\"red.final.enfermos.txt\", header = TRUE, sep = \"\\t\", stringsAsFactors = F)\n",
    "\n",
    "#Calculates number of edges\n",
    "nEdges <- length(edgeList[,1])\n",
    "nEdges"
   ]
  },
  {
   "cell_type": "code",
   "execution_count": 31,
   "metadata": {
    "collapsed": false
   },
   "outputs": [
    {
     "data": {
      "text/html": [
       "4541"
      ],
      "text/latex": [
       "4541"
      ],
      "text/markdown": [
       "4541"
      ],
      "text/plain": [
       "[1] 4541"
      ]
     },
     "metadata": {},
     "output_type": "display_data"
    },
    {
     "data": {
      "text/html": [
       "4302"
      ],
      "text/latex": [
       "4302"
      ],
      "text/markdown": [
       "4302"
      ],
      "text/plain": [
       "[1] 4302"
      ]
     },
     "metadata": {},
     "output_type": "display_data"
    },
    {
     "data": {
      "text/html": [
       "239"
      ],
      "text/latex": [
       "239"
      ],
      "text/markdown": [
       "239"
      ],
      "text/plain": [
       "[1] 239"
      ]
     },
     "metadata": {},
     "output_type": "display_data"
    }
   ],
   "source": [
    "#Makes a list using all the mRNA and genes (nodes constr.)\n",
    "x <- sort( unique( c(edgeList[,1], edgeList[,2])) )\n",
    "\n",
    "#Separate all genes from mRNA\n",
    "y <- x[grepl(\"^[^(hsa)].+$\", x)]\n",
    "z <- x[grepl(\"hsa.*\", x)]\n",
    "\n",
    "#Joins them to preserve order\n",
    "x <- c(y,z)\n",
    "\n",
    "#Determinates number of nodes\n",
    "nNde <- length(x)\n",
    "nGene <- length(y)\n",
    "nmRNA <- length(z)\n",
    "\n",
    "nNde; nGene; nmRNA"
   ]
  },
  {
   "cell_type": "code",
   "execution_count": 32,
   "metadata": {
    "collapsed": false
   },
   "outputs": [],
   "source": [
    "dict <- vector(mode = \"list\", length = nNde )\n",
    "names(dict) <- x\n",
    "\n",
    "for (i in 1:nNde){ dict[[i]] <- i }"
   ]
  },
  {
   "cell_type": "code",
   "execution_count": 33,
   "metadata": {
    "collapsed": false
   },
   "outputs": [],
   "source": [
    "GENE <- vector()\n",
    "MICRO <- vector()\n",
    "BIPARTITE <- vector()"
   ]
  },
  {
   "cell_type": "code",
   "execution_count": 34,
   "metadata": {
    "collapsed": false
   },
   "outputs": [],
   "source": [
    "for (i in 1:nEdges){\n",
    "    if(  dict[[ edgeList[i,1] ]] > nGene){\n",
    "        if(  dict[[ edgeList[i,2] ]] > nGene){\n",
    "            MICRO = rbind(MICRO, edgeList[i,])\n",
    "        }\n",
    "        else{\n",
    "            BIPARTITE = rbind(BIPARTITE, edgeList[i,])\n",
    "        }\n",
    "    }else if( dict[[ edgeList[i,2] ]] > nGene ){\n",
    "        BIPARTITE = rbind(BIPARTITE, edgeList[i,])\n",
    "    }else{\n",
    "        GENE = rbind(GENE, edgeList[i,])\n",
    "    }\n",
    "}"
   ]
  },
  {
   "cell_type": "code",
   "execution_count": 35,
   "metadata": {
    "collapsed": false
   },
   "outputs": [
    {
     "data": {
      "text/html": [
       "<ol class=list-inline>\n",
       "\t<li>14890</li>\n",
       "\t<li>3</li>\n",
       "</ol>\n"
      ],
      "text/latex": [
       "\\begin{enumerate*}\n",
       "\\item 14890\n",
       "\\item 3\n",
       "\\end{enumerate*}\n"
      ],
      "text/markdown": [
       "1. 14890\n",
       "2. 3\n",
       "\n",
       "\n"
      ],
      "text/plain": [
       "[1] 14890     3"
      ]
     },
     "metadata": {},
     "output_type": "display_data"
    },
    {
     "data": {
      "text/html": [
       "<ol class=list-inline>\n",
       "\t<li>548</li>\n",
       "\t<li>3</li>\n",
       "</ol>\n"
      ],
      "text/latex": [
       "\\begin{enumerate*}\n",
       "\\item 548\n",
       "\\item 3\n",
       "\\end{enumerate*}\n"
      ],
      "text/markdown": [
       "1. 548\n",
       "2. 3\n",
       "\n",
       "\n"
      ],
      "text/plain": [
       "[1] 548   3"
      ]
     },
     "metadata": {},
     "output_type": "display_data"
    },
    {
     "data": {
      "text/html": [
       "<ol class=list-inline>\n",
       "\t<li>23853</li>\n",
       "\t<li>3</li>\n",
       "</ol>\n"
      ],
      "text/latex": [
       "\\begin{enumerate*}\n",
       "\\item 23853\n",
       "\\item 3\n",
       "\\end{enumerate*}\n"
      ],
      "text/markdown": [
       "1. 23853\n",
       "2. 3\n",
       "\n",
       "\n"
      ],
      "text/plain": [
       "[1] 23853     3"
      ]
     },
     "metadata": {},
     "output_type": "display_data"
    }
   ],
   "source": [
    "dim(GENE)\n",
    "dim(MICRO)\n",
    "dim(BIPARTITE)"
   ]
  },
  {
   "cell_type": "code",
   "execution_count": 36,
   "metadata": {
    "collapsed": true
   },
   "outputs": [],
   "source": [
    "#write.table( GENE, \"only_genes_enfermos.txt\", sep = \"\\t\", col.names = F, row.names = F, quote = F)\n",
    "#write.table( MICRO, \"only_micro_enfermos.txt\", sep = \"\\t\", col.names = F, row.names = F, quote = F)\n",
    "#write.table( BIPARTITE, \"bipartite_enfermos.txt\", sep = \"\\t\", col.names = F, row.names = F, quote = F)\n",
    "\n",
    "write.table( GENE, \"only_genes_sanos.txt\", sep = \"\\t\", col.names = F, row.names = F, quote = F)\n",
    "write.table( MICRO, \"only_micro_sanos.txt\", sep = \"\\t\", col.names = F, row.names = F, quote = F)\n",
    "write.table( BIPARTITE, \"bipartite_sanos.txt\", sep = \"\\t\", col.names = F, row.names = F, quote = F)"
   ]
  },
  {
   "cell_type": "code",
   "execution_count": null,
   "metadata": {
    "collapsed": true
   },
   "outputs": [],
   "source": []
  }
 ],
 "metadata": {
  "kernelspec": {
   "display_name": "R",
   "language": "R",
   "name": "ir"
  },
  "language_info": {
   "codemirror_mode": "r",
   "file_extension": ".r",
   "mimetype": "text/x-r-source",
   "name": "R",
   "pygments_lexer": "r",
   "version": "3.3.0"
  }
 },
 "nbformat": 4,
 "nbformat_minor": 0
}
