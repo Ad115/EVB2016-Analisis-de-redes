{
 "cells": [
  {
   "cell_type": "code",
   "execution_count": 1,
   "metadata": {
    "collapsed": false
   },
   "outputs": [
    {
     "name": "stderr",
     "output_type": "stream",
     "text": [
      "Loading required package: igraph\n",
      "Warning message:\n",
      ": package ‘igraph’ was built under R version 3.3.0\n",
      "Attaching package: ‘igraph’\n",
      "\n",
      "The following objects are masked from ‘package:stats’:\n",
      "\n",
      "    decompose, spectrum\n",
      "\n",
      "The following object is masked from ‘package:base’:\n",
      "\n",
      "    union\n",
      "\n",
      "Loading required package: Rcpp\n",
      "Warning message:\n",
      ": package ‘Rcpp’ was built under R version 3.3.0"
     ]
    }
   ],
   "source": [
    "#install.packages(\"dils\", repos = \"http://cran.itam.mx/\")\n",
    "library( \"dils\" )\n",
    "library( \"igraph\" )"
   ]
  },
  {
   "cell_type": "code",
   "execution_count": 2,
   "metadata": {
    "collapsed": false
   },
   "outputs": [
    {
     "data": {
      "text/html": [
       "37862"
      ],
      "text/latex": [
       "37862"
      ],
      "text/markdown": [
       "37862"
      ],
      "text/plain": [
       "[1] 37862"
      ]
     },
     "execution_count": 2,
     "metadata": {},
     "output_type": "execute_result"
    }
   ],
   "source": [
    "edgeList <- read.table(\"red.final.enfermos.txt\", header = TRUE, sep = \"\\t\", stringsAsFactors = F)\n",
    "\n",
    "#Calculates number of edges\n",
    "nEdges <- length(edgeList[,1])\n",
    "nEdges"
   ]
  },
  {
   "cell_type": "code",
   "execution_count": 3,
   "metadata": {
    "collapsed": false
   },
   "outputs": [
    {
     "data": {
      "text/html": [
       "4544"
      ],
      "text/latex": [
       "4544"
      ],
      "text/markdown": [
       "4544"
      ],
      "text/plain": [
       "[1] 4544"
      ]
     },
     "execution_count": 3,
     "metadata": {},
     "output_type": "execute_result"
    }
   ],
   "source": [
    "#Makes a list using all the mRNA and genes (nodes constr.)\n",
    "x <- sort( unique( c(edgeList[,1], edgeList[,2])) )\n",
    "\n",
    "#Separate all genes from mRNA\n",
    "y <- x[grepl(\"^[^(hsa)].+$\", x)]\n",
    "z <- x[grepl(\"hsa.*\", x)]\n",
    "\n",
    "#Joins them to prese\n",
    "x <- c(y,z)\n",
    "\n",
    "#Determinates number of nodes\n",
    "nNde <- length(x)\n",
    "nNde"
   ]
  },
  {
   "cell_type": "code",
   "execution_count": 4,
   "metadata": {
    "collapsed": false
   },
   "outputs": [],
   "source": [
    "#Creates a matrix (future adjacency matrix)\n",
    "mat  <- matrix(0, nrow = nNde, ncol = nNde)\n",
    "\n",
    "#Each col and row correspond to a gene or mRNA (stored in x)\n",
    "rownames( mat ) <- x\n",
    "colnames( mat ) <- rownames( mat )"
   ]
  },
  {
   "cell_type": "code",
   "execution_count": 5,
   "metadata": {
    "collapsed": false
   },
   "outputs": [],
   "source": [
    "#Makes a dictionary to asign each element in our adjacency list to our matrix.\n",
    "dict <- vector(mode = \"list\", length = nNde )\n",
    "names(dict) <- x\n",
    "\n",
    "for (i in 1:nNde){ dict[[i]] <- i }\n",
    "\n",
    "for (i in 1:nEdges){\n",
    "    mat[ dict[[ edgeList[i,1] ]], dict[[ edgeList[i,2] ]] ] <- edgeList[i,3]\n",
    "    mat[ dict[[ edgeList[i,2] ]], dict[[ edgeList[i,1] ]] ] <- edgeList[i,3]\n",
    "}"
   ]
  },
  {
   "cell_type": "code",
   "execution_count": 6,
   "metadata": {
    "collapsed": false
   },
   "outputs": [],
   "source": [
    "#Currently, we do have a weighted adjacency matrix but we need a normal one.\n",
    "mat = (mat>0)*1"
   ]
  },
  {
   "cell_type": "code",
   "execution_count": 7,
   "metadata": {
    "collapsed": false
   },
   "outputs": [
    {
     "data": {
      "text/html": [
       "TRUE"
      ],
      "text/latex": [
       "TRUE"
      ],
      "text/markdown": [
       "TRUE"
      ],
      "text/plain": [
       "[1] TRUE"
      ]
     },
     "execution_count": 7,
     "metadata": {},
     "output_type": "execute_result"
    },
    {
     "data": {
      "text/html": [
       "TRUE"
      ],
      "text/latex": [
       "TRUE"
      ],
      "text/markdown": [
       "TRUE"
      ],
      "text/plain": [
       "[1] TRUE"
      ]
     },
     "execution_count": 7,
     "metadata": {},
     "output_type": "execute_result"
    },
    {
     "data": {
      "text/html": [
       "TRUE"
      ],
      "text/latex": [
       "TRUE"
      ],
      "text/markdown": [
       "TRUE"
      ],
      "text/plain": [
       "[1] TRUE"
      ]
     },
     "execution_count": 7,
     "metadata": {},
     "output_type": "execute_result"
    }
   ],
   "source": [
    "#Checks if we did everything right\n",
    "nEdges == sum(mat)/2\n",
    "all(mat == t(mat))\n",
    "isSymmetric(mat)"
   ]
  },
  {
   "cell_type": "code",
   "execution_count": 9,
   "metadata": {
    "collapsed": false
   },
   "outputs": [],
   "source": [
    "G <- graph.adjacency( adjmatrix = mat, mode = \"undirected\", diag = F, weighted = NULL)"
   ]
  },
  {
   "cell_type": "code",
   "execution_count": null,
   "metadata": {
    "collapsed": true
   },
   "outputs": [],
   "source": [
    "centralityEgn <- eigen_centrality(graph = G)\n",
    "write.table( centralityEgn$vector, \"eigenCentrality.txt\", sep = \"\\t\", col.names = F )"
   ]
  },
  {
   "cell_type": "code",
   "execution_count": null,
   "metadata": {
    "collapsed": true
   },
   "outputs": [],
   "source": [
    "centralityBtw <- betweenness(graph = G, v = V(G))\n",
    "write.table( centralityBtw, \"betweenness.txt\", sep = \"\\t\", col.names = F )"
   ]
  },
  {
   "cell_type": "code",
   "execution_count": 10,
   "metadata": {
    "collapsed": true
   },
   "outputs": [],
   "source": [
    "centralityCls <- closeness(graph = G, v = V(G))\n",
    "write.table( centralityCls, \"closeness.txt\", sep = \"\\t\", col.names = F )"
   ]
  },
  {
   "cell_type": "code",
   "execution_count": null,
   "metadata": {
    "collapsed": false
   },
   "outputs": [
    {
     "data": {
      "text/html": [
       "5.41540194467084e-07"
      ],
      "text/latex": [
       "5.41540194467084e-07"
      ],
      "text/markdown": [
       "5.41540194467084e-07"
      ],
      "text/plain": [
       "[1] 5.415402e-07"
      ]
     },
     "execution_count": 12,
     "metadata": {},
     "output_type": "execute_result"
    }
   ],
   "source": [
    "max(centralityCls)"
   ]
  },
  {
   "cell_type": "code",
   "execution_count": null,
   "metadata": {
    "collapsed": true
   },
   "outputs": [],
   "source": []
  }
 ],
 "metadata": {
  "kernelspec": {
   "display_name": "R",
   "language": "R",
   "name": "ir"
  },
  "language_info": {
   "codemirror_mode": "r",
   "file_extension": ".r",
   "mimetype": "text/x-r-source",
   "name": "R",
   "pygments_lexer": "r",
   "version": "3.2.3"
  }
 },
 "nbformat": 4,
 "nbformat_minor": 0
}
