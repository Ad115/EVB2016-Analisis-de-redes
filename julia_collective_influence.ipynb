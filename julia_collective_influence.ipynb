{
 "cells": [
  {
   "cell_type": "code",
   "execution_count": 11,
   "metadata": {
    "collapsed": false
   },
   "outputs": [],
   "source": [
    "# Code from Ollin Demian Langle Chimal https://github.com/ollin18/Complex_Networks\n",
    "# cite: https://zenodo.org/record/49699\n",
    "\n",
    "using SimpleGraphs\n",
    "\n",
    "red = readdlm(\"only_genes_sanos.txt\",'\\t')\n",
    "g = SimpleGraph()\n",
    "for n in 2:Int64(size(red,1))\n",
    "    add!(g,red[n,1],red[n,2])\n",
    "end\n",
    "\n",
    "function CI(g,n::Int64)\n",
    "    #n < diameter(g) || error(\"n debe ser menor que el diámetro de la red\")\n",
    "    CI = zeros(NV(g))\n",
    "    for v in 1:NV(g)\n",
    "        vec = neighbors(g,vlist(g)[v])\n",
    "        vec2 = vec\n",
    "        vec = vcat(vec,vlist(g)[v])\n",
    "        todos = vec\n",
    "        distn = Array(Int64,0)\n",
    "        for l in 1:(n-1)\n",
    "            todos = union(vec,vec2)\n",
    "            for m in vec2\n",
    "                vec2 = union(vec2,neighbors(g,m))\n",
    "            end\n",
    "            distn = union(setdiff(todos,vec2),setdiff(vec2,todos))\n",
    "        end\n",
    "        δ = zeros(length(distn))\n",
    "        for m in 1:length(distn)\n",
    "            δ[m] = (deg(g,distn[m]))-1\n",
    "        end\n",
    "        σ = sum(δ)\n",
    "        CI[v] = σ * (deg(g,vlist(g)[v])-1)\n",
    "    end\n",
    "    CI = hcat(vlist(g),CI)\n",
    "end\n",
    "\n",
    "\n",
    "collective = CI(g,2)\n",
    "writedlm(\"CI_red_genes_sanos.dat\", collective)\n"
   ]
  },
  {
   "cell_type": "code",
   "execution_count": 2,
   "metadata": {
    "collapsed": false
   },
   "outputs": [
    {
     "name": "stderr",
     "output_type": "stream",
     "text": [
      "INFO: Cloning Polynomials from https://github.com/pjabardo/Polynomials.jl\n",
      "INFO: Computing changes...\n",
      "WARNING: unknown Polynomials commit 5bb5a253, metadata may be ahead of package cache\n",
      "INFO: No packages to install, update or remove\n",
      "INFO: Package database updated\n"
     ]
    }
   ],
   "source": [
    "#Pkg.clone(\"https://github.com/JuliaLang/DataStructures.jl\")\n",
    "#Pkg.clone(\"https://github.com/JuliaLang/Iterators.jl\")\n",
    "#Pkg.clone(\"https://github.com/pjabardo/Polynomials.jl\")"
   ]
  }
 ],
 "metadata": {
  "kernelspec": {
   "display_name": "Julia 0.4.7-pre",
   "language": "julia",
   "name": "julia-0.4"
  },
  "language_info": {
   "file_extension": ".jl",
   "mimetype": "application/julia",
   "name": "julia",
   "version": "0.4.7"
  }
 },
 "nbformat": 4,
 "nbformat_minor": 0
}
